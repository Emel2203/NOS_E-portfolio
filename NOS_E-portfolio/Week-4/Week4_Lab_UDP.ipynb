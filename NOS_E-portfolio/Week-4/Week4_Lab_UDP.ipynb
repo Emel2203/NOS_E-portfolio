{
 "cells": [
  {
   "cell_type": "code",
   "execution_count": null,
   "metadata": {},
   "outputs": [
    {
     "name": "stdout",
     "output_type": "stream",
     "text": [
      "UDP Server is running...\n"
     ]
    }
   ],
   "source": [
    "import socket\n",
    "\n",
    "server_socket = socket.socket(socket.AF_INET, socket.SOCK_DGRAM)\n",
    "server_socket.bind((\"localhost\", 65433))\n",
    "\n",
    "valid_users = {\n",
    "    \"user1\": \"password123\",\n",
    "    \"admin\": \"admin123\",\n",
    "    \"testuser\": \"testpass\",\n",
    "    \"network\": \"secure456\",\n",
    "    \"client1\": \"clientpass\"\n",
    "}\n",
    "\n",
    "print(\"UDP Server is running...\")\n",
    "\n",
    "while True:\n",
    "    # Receive username and password\n",
    "    data, client_address = server_socket.recvfrom(2048)\n",
    "    username, password = data.decode().split(\":\")  # Splitting username and password\n",
    "\n",
    "    # 🔥 Debugging: Print the received credentials to check if they match\n",
    "    print(f\"Received Login Attempt - Username: {username}, Password: {password}\")\n",
    "\n",
    "    # Check if credentials are correct\n",
    "    if username in valid_users and valid_users[username] == password:\n",
    "        print(\"Authentication Successful!\")\n",
    "        server_socket.sendto(b\"Authentication Successful!\", client_address)\n",
    "    else:\n",
    "        print(\"Authentication Failed!\")\n",
    "        server_socket.sendto(b\"Authentication Failed!\", client_address)\n"
   ]
  }
 ],
 "metadata": {
  "kernelspec": {
   "display_name": "dp4ai",
   "language": "python",
   "name": "dp4ai"
  },
  "language_info": {
   "codemirror_mode": {
    "name": "ipython",
    "version": 3
   },
   "file_extension": ".py",
   "mimetype": "text/x-python",
   "name": "python",
   "nbconvert_exporter": "python",
   "pygments_lexer": "ipython3",
   "version": "3.12.5"
  }
 },
 "nbformat": 4,
 "nbformat_minor": 2
}
