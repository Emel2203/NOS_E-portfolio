{
 "cells": [
  {
   "cell_type": "code",
   "execution_count": null,
   "metadata": {},
   "outputs": [],
   "source": []
  },
  {
   "cell_type": "code",
   "execution_count": null,
   "metadata": {},
   "outputs": [
    {
     "name": "stdout",
     "output_type": "stream",
     "text": [
      "Authentication Successful!\n"
     ]
    }
   ],
   "source": [
    "import socket\n",
    "\n",
    "# Create the socket properly\n",
    "client_socket = socket.socket(socket.AF_INET, socket.SOCK_DGRAM)\n",
    "server_address = (\"localhost\", 65433)\n",
    "\n",
    "# Send username and password\n",
    "username = input(\"Enter username: \")\n",
    "password = input(\"Enter password: \")\n",
    "client_socket.sendto(f\"{username}:{password}\".encode(), server_address)\n",
    "\n",
    "# Receive authentication response\n",
    "response, _ = client_socket.recvfrom(2048)\n",
    "print(response.decode())\n",
    "\n",
    "# Prevent running further if authentication failed\n",
    "if \"Failed\" in response.decode():\n",
    "    client_socket.close()\n",
    "    exit()\n",
    "\n",
    "# Keep socket open for chat\n",
    "while True:\n",
    "    try:\n",
    "        message = input(\"You: \")\n",
    "        client_socket.sendto(message.encode(), server_address) \n",
    "        response, _ = client_socket.recvfrom(2048)\n",
    "        print(f\"Server: {response.decode()}\")\n",
    "    except OSError as e:\n",
    "        print(f\"Socket Error: {e}\")\n",
    "        break\n"
   ]
  }
 ],
 "metadata": {
  "kernelspec": {
   "display_name": "dp4ai",
   "language": "python",
   "name": "dp4ai"
  },
  "language_info": {
   "codemirror_mode": {
    "name": "ipython",
    "version": 3
   },
   "file_extension": ".py",
   "mimetype": "text/x-python",
   "name": "python",
   "nbconvert_exporter": "python",
   "pygments_lexer": "ipython3",
   "version": "3.12.5"
  }
 },
 "nbformat": 4,
 "nbformat_minor": 2
}
