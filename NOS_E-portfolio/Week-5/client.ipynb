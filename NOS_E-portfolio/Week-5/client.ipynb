{
 "cells": [
  {
   "cell_type": "code",
   "execution_count": null,
   "metadata": {},
   "outputs": [
    {
     "name": "stdout",
     "output_type": "stream",
     "text": [
      "Server response: ACK: server handling\n",
      "⏳ Transmission Time: 0.001384 seconds\n"
     ]
    }
   ],
   "source": [
    "import socket\n",
    "\n",
    "# Create a TCP socket\n",
    "client_socket = socket.socket(socket.AF_INET, socket.SOCK_STREAM)\n",
    "\n",
    "# Connect to the server\n",
    "client_socket.connect((\"localhost\", 65432))\n",
    "\n",
    "# Send a message\n",
    "message = input(\"Enter your message: \")\n",
    "client_socket.sendall(message.encode())\n",
    "\n",
    "# Receive the server's response\n",
    "response = client_socket.recv(1024)\n",
    "print(f\"Server response: {response.decode()}\")\n",
    "\n",
    "# Close the socket\n",
    "client_socket.close()\n"
   ]
  },
  {
   "cell_type": "code",
   "execution_count": null,
   "metadata": {},
   "outputs": [],
   "source": [
    "import socket\n",
    "import datetime\n",
    "\n",
    "client_socket = socket.socket(socket.AF_INET, socket.SOCK_STREAM)\n",
    "client_socket.connect((\"localhost\", 65432))\n",
    "\n",
    "message = input(\"Enter your message: \")\n",
    "\n",
    "# Record start time\n",
    "start_time = datetime.datetime.now()\n",
    "\n",
    "# Send the message\n",
    "client_socket.sendall(message.encode())\n",
    "\n",
    "# Receive response\n",
    "response = client_socket.recv(1024)\n",
    "\n",
    "# Record end time\n",
    "end_time = datetime.datetime.now()\n",
    "\n",
    "# Calculate transmission time\n",
    "transmission_time = (end_time - start_time).total_seconds()\n",
    "print(f\"Server response: {response.decode()}\")\n",
    "print(f\"⏳ Transmission Time: {transmission_time} seconds\")\n",
    "\n",
    "client_socket.close()\n"
   ]
  }
 ],
 "metadata": {
  "kernelspec": {
   "display_name": "dp4ai",
   "language": "python",
   "name": "dp4ai"
  },
  "language_info": {
   "codemirror_mode": {
    "name": "ipython",
    "version": 3
   },
   "file_extension": ".py",
   "mimetype": "text/x-python",
   "name": "python",
   "nbconvert_exporter": "python",
   "pygments_lexer": "ipython3",
   "version": "3.12.5"
  }
 },
 "nbformat": 4,
 "nbformat_minor": 2
}
