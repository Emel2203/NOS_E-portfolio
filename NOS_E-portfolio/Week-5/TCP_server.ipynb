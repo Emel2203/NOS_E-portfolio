{
 "cells": [
  {
   "cell_type": "code",
   "execution_count": null,
   "metadata": {},
   "outputs": [
    {
     "name": "stdout",
     "output_type": "stream",
     "text": [
      "TCP Multi-Client Server is listening...\n",
      "🔗 New connection from ('127.0.0.1', 49325)\n",
      "Client ('127.0.0.1', 49325): server handling\n",
      "Connection closed for ('127.0.0.1', 49325)\n"
     ]
    }
   ],
   "source": [
    "import socket\n",
    "\n",
    "# Create a TCP socket\n",
    "server_socket = socket.socket(socket.AF_INET, socket.SOCK_STREAM)\n",
    "\n",
    "# Bind the socket to an address and port\n",
    "server_socket.bind((\"localhost\", 65432))\n",
    "\n",
    "# Listen for incoming connections (max 1 queued connection)\n",
    "server_socket.listen(1)\n",
    "print(\"TCP Server is listening...\")\n",
    "\n",
    "# Accept client connections\n",
    "client_socket, client_address = server_socket.accept()\n",
    "print(f\"Connected to {client_address}\")\n",
    "\n",
    "# Receive data from the client\n",
    "data = client_socket.recv(1024)\n",
    "print(f\"Received: {data.decode()}\")\n",
    "\n",
    "# Send an acknowledgment back\n",
    "client_socket.sendall(b\"ACK: \" + data)\n",
    "\n",
    "# Close the connection\n",
    "client_socket.close()\n"
   ]
  },
  {
   "cell_type": "code",
   "execution_count": null,
   "metadata": {},
   "outputs": [],
   "source": [
    "import socket\n",
    "import threading\n",
    "\n",
    "def handle_client(client_socket, client_address):\n",
    "    \"\"\"Handles communication with a connected client.\"\"\"\n",
    "    print(f\"🔗 New connection from {client_address}\")\n",
    "\n",
    "    while True:\n",
    "        data = client_socket.recv(1024)\n",
    "        if not data:\n",
    "            break\n",
    "        print(f\"Client {client_address}: {data.decode()}\")\n",
    "        client_socket.sendall(b\"ACK: \" + data)\n",
    "\n",
    "    client_socket.close()\n",
    "    print(f\"Connection closed for {client_address}\")\n",
    "\n",
    "server_socket = socket.socket(socket.AF_INET, socket.SOCK_STREAM)\n",
    "server_socket.bind((\"localhost\", 65432))\n",
    "server_socket.listen(5)  # Allow up to 5 clients to queue\n",
    "print(\"TCP Multi-Client Server is listening...\")\n",
    "\n",
    "while True:\n",
    "    client_socket, client_address = server_socket.accept()\n",
    "    client_thread = threading.Thread(target=handle_client, args=(client_socket, client_address))\n",
    "    client_thread.start()\n"
   ]
  }
 ],
 "metadata": {
  "kernelspec": {
   "display_name": "dp4ai",
   "language": "python",
   "name": "dp4ai"
  },
  "language_info": {
   "codemirror_mode": {
    "name": "ipython",
    "version": 3
   },
   "file_extension": ".py",
   "mimetype": "text/x-python",
   "name": "python",
   "nbconvert_exporter": "python",
   "pygments_lexer": "ipython3",
   "version": "3.12.5"
  }
 },
 "nbformat": 4,
 "nbformat_minor": 2
}
